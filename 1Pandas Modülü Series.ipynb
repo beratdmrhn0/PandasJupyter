{
 "cells": [
  {
   "cell_type": "code",
   "execution_count": 1,
   "id": "8a940b70",
   "metadata": {},
   "outputs": [],
   "source": [
    "import pandas as pd\n"
   ]
  },
  {
   "cell_type": "code",
   "execution_count": 2,
   "id": "9533e81a",
   "metadata": {},
   "outputs": [
    {
     "data": {
      "text/plain": [
       "0      1\n",
       "1    Ali\n",
       "2    3.5\n",
       "3    Hey\n",
       "dtype: object"
      ]
     },
     "execution_count": 2,
     "metadata": {},
     "output_type": "execute_result"
    }
   ],
   "source": [
    "obje = pd.Series([1,\"Ali\",3.5,\"Hey\"]) #Series bir boyutlu nesnedir.\n",
    "obje"
   ]
  },
  {
   "cell_type": "code",
   "execution_count": 3,
   "id": "eeea2643",
   "metadata": {},
   "outputs": [
    {
     "data": {
      "text/plain": [
       "'Hey'"
      ]
     },
     "execution_count": 3,
     "metadata": {},
     "output_type": "execute_result"
    }
   ],
   "source": [
    "obje[0]#0. indeksdeki nesneyi getirir.\n",
    "obje[3]"
   ]
  },
  {
   "cell_type": "code",
   "execution_count": 4,
   "id": "7726c1bd",
   "metadata": {},
   "outputs": [
    {
     "data": {
      "text/plain": [
       "array([1, 'Ali', 3.5, 'Hey'], dtype=object)"
      ]
     },
     "execution_count": 4,
     "metadata": {},
     "output_type": "execute_result"
    }
   ],
   "source": [
    "obje.values #.values , dizi olarak yazdırır."
   ]
  },
  {
   "cell_type": "code",
   "execution_count": 5,
   "id": "0b756c12",
   "metadata": {},
   "outputs": [
    {
     "data": {
      "text/plain": [
       "a      1\n",
       "b    Ali\n",
       "c    3.5\n",
       "d    Hey\n",
       "dtype: object"
      ]
     },
     "execution_count": 5,
     "metadata": {},
     "output_type": "execute_result"
    }
   ],
   "source": [
    "obje = pd.Series([1,\"Ali\",3.5,\"Hey\"], index =[\"a\",\"b\",\"c\",\"d\"]) #İndexlerin etiketlerini değiştirmek için böyle yapılır.\n",
    "obje"
   ]
  },
  {
   "cell_type": "code",
   "execution_count": 6,
   "id": "93a89eb0",
   "metadata": {},
   "outputs": [
    {
     "data": {
      "text/plain": [
       "1"
      ]
     },
     "execution_count": 6,
     "metadata": {},
     "output_type": "execute_result"
    }
   ],
   "source": [
    "obje[\"a\"]\n",
    "obje[\"b\"] "
   ]
  },
  {
   "cell_type": "code",
   "execution_count": 7,
   "id": "3cc5063f",
   "metadata": {},
   "outputs": [
    {
     "data": {
      "text/plain": [
       "Index(['a', 'b', 'c', 'd'], dtype='object')"
      ]
     },
     "execution_count": 7,
     "metadata": {},
     "output_type": "execute_result"
    }
   ],
   "source": [
    "obje.index #objenin index yapısını görmek için yazılan kod"
   ]
  },
  {
   "cell_type": "code",
   "execution_count": 9,
   "id": "7f05cb77",
   "metadata": {},
   "outputs": [
    {
     "data": {
      "text/plain": [
       "Ali     90\n",
       "Can     80\n",
       "Efe     75\n",
       "Buse    95\n",
       "dtype: int64"
      ]
     },
     "execution_count": 9,
     "metadata": {},
     "output_type": "execute_result"
    }
   ],
   "source": [
    "#Liste, tuple, sözlük gibi veri tiplerini Series yapısına çevirebiliriz.\n",
    "#ÖRNEK;\n",
    "puan = {\"Ali\":90,\"Can\":80,\"Efe\":75,\"Buse\":95}\n",
    "nt = pd.Series(puan) #Sözlük veri yapısını Series veri yapısına çevirdik.\n",
    "nt\n"
   ]
  },
  {
   "cell_type": "code",
   "execution_count": 10,
   "id": "9c0e42de",
   "metadata": {},
   "outputs": [
    {
     "data": {
      "text/plain": [
       "80"
      ]
     },
     "execution_count": 10,
     "metadata": {},
     "output_type": "execute_result"
    }
   ],
   "source": [
    "nt[\"Can\"]"
   ]
  },
  {
   "cell_type": "code",
   "execution_count": 11,
   "id": "e6d07bde",
   "metadata": {},
   "outputs": [
    {
     "data": {
      "text/plain": [
       "Ali     90\n",
       "Buse    95\n",
       "dtype: int64"
      ]
     },
     "execution_count": 11,
     "metadata": {},
     "output_type": "execute_result"
    }
   ],
   "source": [
    "nt[nt>85] #notları 85 den büyük olanları bulmak için böyle yapılır.\n"
   ]
  },
  {
   "cell_type": "code",
   "execution_count": 12,
   "id": "9bc02382",
   "metadata": {},
   "outputs": [
    {
     "data": {
      "text/plain": [
       "Ali     False\n",
       "Can      True\n",
       "Efe      True\n",
       "Buse    False\n",
       "dtype: bool"
      ]
     },
     "execution_count": 12,
     "metadata": {},
     "output_type": "execute_result"
    }
   ],
   "source": [
    "#boolen tipi öperatörler içinde kullanabiliriz.\n",
    "nt<85"
   ]
  },
  {
   "cell_type": "code",
   "execution_count": 13,
   "id": "16075b24",
   "metadata": {},
   "outputs": [
    {
     "data": {
      "text/plain": [
       "Ali     90\n",
       "Can     60\n",
       "Efe     75\n",
       "Buse    95\n",
       "dtype: int64"
      ]
     },
     "execution_count": 13,
     "metadata": {},
     "output_type": "execute_result"
    }
   ],
   "source": [
    "nt[\"Can\"]=60 #dizideki bir değeri değiştirmek için kullanılır.\n",
    "nt"
   ]
  },
  {
   "cell_type": "code",
   "execution_count": 15,
   "id": "a2e1b4a4",
   "metadata": {},
   "outputs": [
    {
     "data": {
      "text/plain": [
       "Ali     90\n",
       "Can     83\n",
       "Efe     83\n",
       "Buse    95\n",
       "dtype: int64"
      ]
     },
     "execution_count": 15,
     "metadata": {},
     "output_type": "execute_result"
    }
   ],
   "source": [
    "nt[nt<80]=83 #puanı 80 altındakiler için 83 olarak değiştirildi.\n",
    "nt"
   ]
  },
  {
   "cell_type": "code",
   "execution_count": 17,
   "id": "63841fc1",
   "metadata": {},
   "outputs": [
    {
     "data": {
      "text/plain": [
       "True"
      ]
     },
     "execution_count": 17,
     "metadata": {},
     "output_type": "execute_result"
    }
   ],
   "source": [
    "\"Efe\" in nt #Dizide olup olmadığını kontrol edebiliriz."
   ]
  },
  {
   "cell_type": "code",
   "execution_count": 18,
   "id": "f44b7fc1",
   "metadata": {},
   "outputs": [
    {
     "data": {
      "text/plain": [
       "False"
      ]
     },
     "execution_count": 18,
     "metadata": {},
     "output_type": "execute_result"
    }
   ],
   "source": [
    "\"Ahmet\" in nt"
   ]
  },
  {
   "cell_type": "code",
   "execution_count": 19,
   "id": "f3fb73ed",
   "metadata": {},
   "outputs": [
    {
     "data": {
      "text/plain": [
       "Ali     9.0\n",
       "Can     8.3\n",
       "Efe     8.3\n",
       "Buse    9.5\n",
       "dtype: float64"
      ]
     },
     "execution_count": 19,
     "metadata": {},
     "output_type": "execute_result"
    }
   ],
   "source": [
    "nt/10 #Matematiksel işlemeler yapabliriz.\n"
   ]
  },
  {
   "cell_type": "code",
   "execution_count": 20,
   "id": "b135729d",
   "metadata": {},
   "outputs": [
    {
     "data": {
      "text/plain": [
       "Ali     8100\n",
       "Can     6889\n",
       "Efe     6889\n",
       "Buse    9025\n",
       "dtype: int64"
      ]
     },
     "execution_count": 20,
     "metadata": {},
     "output_type": "execute_result"
    }
   ],
   "source": [
    "nt**2 #Karesini aldık."
   ]
  },
  {
   "cell_type": "code",
   "execution_count": 21,
   "id": "76300a6d",
   "metadata": {},
   "outputs": [
    {
     "data": {
      "text/plain": [
       "Ali     False\n",
       "Can     False\n",
       "Efe     False\n",
       "Buse    False\n",
       "dtype: bool"
      ]
     },
     "execution_count": 21,
     "metadata": {},
     "output_type": "execute_result"
    }
   ],
   "source": [
    "nt.isnull() #eksik veriyi bulmak için .isnull kullanılır."
   ]
  },
  {
   "cell_type": "code",
   "execution_count": null,
   "id": "6b49c034",
   "metadata": {},
   "outputs": [],
   "source": []
  },
  {
   "cell_type": "code",
   "execution_count": null,
   "id": "fe86819f",
   "metadata": {},
   "outputs": [],
   "source": []
  }
 ],
 "metadata": {
  "kernelspec": {
   "display_name": "Python 3 (ipykernel)",
   "language": "python",
   "name": "python3"
  },
  "language_info": {
   "codemirror_mode": {
    "name": "ipython",
    "version": 3
   },
   "file_extension": ".py",
   "mimetype": "text/x-python",
   "name": "python",
   "nbconvert_exporter": "python",
   "pygments_lexer": "ipython3",
   "version": "3.11.5"
  }
 },
 "nbformat": 4,
 "nbformat_minor": 5
}
