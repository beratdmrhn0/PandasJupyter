{
 "cells": [
  {
   "cell_type": "code",
   "execution_count": 1,
   "id": "46b2a7dc",
   "metadata": {},
   "outputs": [],
   "source": [
    "#BU NOTEBOOK'DA ;\n",
    "#txt-csv dosya okuma\n",
    "#opsiyonlar\n",
    "#eksik veri ile mücadele\n",
    "#veri setini yazdırma\n",
    "#farklı formatları okuma. KONULARI HAKKIDNA BİLGİ ALCAZ."
   ]
  },
  {
   "cell_type": "code",
   "execution_count": 20,
   "id": "c5ee3bd9",
   "metadata": {},
   "outputs": [],
   "source": [
    "#GENELLİKLE VERİDEKİ DEĞERLER BİR TAB BOŞLUK VEYA VİRGÜL İLE AYRILMIŞTIR.\n",
    "#VİRGÜL => pd.read_csv\n",
    "#TAB =>pd.read_table \n",
    "#tab ile ayrılmış veri setini test edelim"
   ]
  },
  {
   "cell_type": "code",
   "execution_count": null,
   "id": "e2822e57",
   "metadata": {},
   "outputs": [],
   "source": [
    "#EĞER FARKLI ŞEKİLLERDEKİ VERİ SETLERİNİ KULLANMAK İÇİN ŞUNLARI KULLANILIRIZ.\n",
    "#xls, xlxs => read_excel\n",
    "#sabit uzunluk => read_fwf\n",
    "#java script obje => read_json\n",
    "#html tablo => read_html"
   ]
  },
  {
   "cell_type": "code",
   "execution_count": 5,
   "id": "157a4977",
   "metadata": {},
   "outputs": [],
   "source": [
    "import pandas as pd"
   ]
  },
  {
   "cell_type": "code",
   "execution_count": 12,
   "id": "7de1af3c",
   "metadata": {
    "scrolled": true
   },
   "outputs": [
    {
     "data": {
      "text/html": [
       "<div>\n",
       "<style scoped>\n",
       "    .dataframe tbody tr th:only-of-type {\n",
       "        vertical-align: middle;\n",
       "    }\n",
       "\n",
       "    .dataframe tbody tr th {\n",
       "        vertical-align: top;\n",
       "    }\n",
       "\n",
       "    .dataframe thead th {\n",
       "        text-align: right;\n",
       "    }\n",
       "</style>\n",
       "<table border=\"1\" class=\"dataframe\">\n",
       "  <thead>\n",
       "    <tr style=\"text-align: right;\">\n",
       "      <th></th>\n",
       "      <th>İSİM</th>\n",
       "      <th>YAŞ</th>\n",
       "      <th>EĞİTİM</th>\n",
       "      <th>ANNEAD</th>\n",
       "    </tr>\n",
       "  </thead>\n",
       "  <tbody>\n",
       "    <tr>\n",
       "      <th>0</th>\n",
       "      <td>isimleri</td>\n",
       "      <td>yaşları</td>\n",
       "      <td>eğitim seviyesi</td>\n",
       "      <td>anne adı</td>\n",
       "    </tr>\n",
       "    <tr>\n",
       "      <th>1</th>\n",
       "      <td>berat</td>\n",
       "      <td>20</td>\n",
       "      <td>lisans</td>\n",
       "      <td>ayşe</td>\n",
       "    </tr>\n",
       "    <tr>\n",
       "      <th>2</th>\n",
       "      <td>ayşe</td>\n",
       "      <td>46</td>\n",
       "      <td>ilkokul</td>\n",
       "      <td>hanife</td>\n",
       "    </tr>\n",
       "    <tr>\n",
       "      <th>3</th>\n",
       "      <td>ali</td>\n",
       "      <td>50</td>\n",
       "      <td>lise</td>\n",
       "      <td>zübeyde</td>\n",
       "    </tr>\n",
       "    <tr>\n",
       "      <th>4</th>\n",
       "      <td>nisa</td>\n",
       "      <td>24</td>\n",
       "      <td>önlisans</td>\n",
       "      <td>ayşe</td>\n",
       "    </tr>\n",
       "    <tr>\n",
       "      <th>5</th>\n",
       "      <td>elif</td>\n",
       "      <td>27</td>\n",
       "      <td>önlisans</td>\n",
       "      <td>ayşe</td>\n",
       "    </tr>\n",
       "  </tbody>\n",
       "</table>\n",
       "</div>"
      ],
      "text/plain": [
       "        İSİM        YAŞ             EĞİTİM      ANNEAD\n",
       "0  isimleri    yaşları    eğitim seviyesi    anne adı \n",
       "1      berat         20             lisans        ayşe\n",
       "2       ayşe         46            ilkokul      hanife\n",
       "3       ali         50               lise      zübeyde\n",
       "4       nisa         24          önlisans         ayşe\n",
       "5       elif         27          önlisans         ayşe"
      ]
     },
     "execution_count": 12,
     "metadata": {},
     "output_type": "execute_result"
    }
   ],
   "source": [
    "df = pd.read_csv(\"ali.csv\", sep = \",\", header = None , names = [\"İSİM\",\"YAŞ\",\"EĞİTİM\",\"ANNEAD\"]) #sutun isimlerini kendi düzeltiyo. header = None ile \n",
    "df #names = [\"...\"] ile sutun isimleri değiştirilebilir."
   ]
  },
  {
   "cell_type": "code",
   "execution_count": null,
   "id": "b562c852",
   "metadata": {},
   "outputs": [],
   "source": []
  },
  {
   "cell_type": "code",
   "execution_count": 14,
   "id": "e6909d8a",
   "metadata": {},
   "outputs": [
    {
     "data": {
      "text/html": [
       "<div>\n",
       "<style scoped>\n",
       "    .dataframe tbody tr th:only-of-type {\n",
       "        vertical-align: middle;\n",
       "    }\n",
       "\n",
       "    .dataframe tbody tr th {\n",
       "        vertical-align: top;\n",
       "    }\n",
       "\n",
       "    .dataframe thead th {\n",
       "        text-align: right;\n",
       "    }\n",
       "</style>\n",
       "<table border=\"1\" class=\"dataframe\">\n",
       "  <thead>\n",
       "    <tr style=\"text-align: right;\">\n",
       "      <th></th>\n",
       "      <th>YAŞ</th>\n",
       "      <th>EĞİTİM</th>\n",
       "      <th>ANNEAD</th>\n",
       "    </tr>\n",
       "    <tr>\n",
       "      <th>İSİM</th>\n",
       "      <th></th>\n",
       "      <th></th>\n",
       "      <th></th>\n",
       "    </tr>\n",
       "  </thead>\n",
       "  <tbody>\n",
       "    <tr>\n",
       "      <th>isimleri</th>\n",
       "      <td>yaşları</td>\n",
       "      <td>eğitim seviyesi</td>\n",
       "      <td>anne adı</td>\n",
       "    </tr>\n",
       "    <tr>\n",
       "      <th>berat</th>\n",
       "      <td>20</td>\n",
       "      <td>lisans</td>\n",
       "      <td>ayşe</td>\n",
       "    </tr>\n",
       "    <tr>\n",
       "      <th>ayşe</th>\n",
       "      <td>46</td>\n",
       "      <td>ilkokul</td>\n",
       "      <td>hanife</td>\n",
       "    </tr>\n",
       "    <tr>\n",
       "      <th>ali</th>\n",
       "      <td>50</td>\n",
       "      <td>lise</td>\n",
       "      <td>zübeyde</td>\n",
       "    </tr>\n",
       "    <tr>\n",
       "      <th>nisa</th>\n",
       "      <td>24</td>\n",
       "      <td>önlisans</td>\n",
       "      <td>ayşe</td>\n",
       "    </tr>\n",
       "    <tr>\n",
       "      <th>elif</th>\n",
       "      <td>27</td>\n",
       "      <td>önlisans</td>\n",
       "      <td>ayşe</td>\n",
       "    </tr>\n",
       "  </tbody>\n",
       "</table>\n",
       "</div>"
      ],
      "text/plain": [
       "                 YAŞ             EĞİTİM      ANNEAD\n",
       "İSİM                                               \n",
       "isimleri    yaşları    eğitim seviyesi    anne adı \n",
       "berat             20             lisans        ayşe\n",
       "ayşe              46            ilkokul      hanife\n",
       "ali              50               lise      zübeyde\n",
       "nisa              24          önlisans         ayşe\n",
       "elif              27          önlisans         ayşe"
      ]
     },
     "execution_count": 14,
     "metadata": {},
     "output_type": "execute_result"
    }
   ],
   "source": [
    "#İsim sutununu index olarak kullanmka istiyorsak index_col = \"\" fonk kullanılır.\n",
    "df = pd.read_csv(\"ali.csv\", sep = \",\", header = None , names = [\"İSİM\",\"YAŞ\",\"EĞİTİM\",\"ANNEAD\"], index_col = \"İSİM\")\n",
    "df"
   ]
  },
  {
   "cell_type": "code",
   "execution_count": 16,
   "id": "95f1e67e",
   "metadata": {},
   "outputs": [],
   "source": [
    "#verileri düzenledikten sonra veri setinini çalışma sayfasına taşımak için .to_csv(\"yeni ismi.csv\") halinde yazıcaz.\n",
    "df.to_csv(\"Yeni_veri_ali.csv\")"
   ]
  },
  {
   "cell_type": "code",
   "execution_count": 19,
   "id": "28b1b4dd",
   "metadata": {},
   "outputs": [
    {
     "name": "stdout",
     "output_type": "stream",
     "text": [
      "İSİM|YAŞ|EĞİTİM|ANNEAD\r\n",
      "isimleri | yaşları | eğitim seviyesi | anne adı \r\n",
      "berat| 20|lisans|ayşe\r\n",
      "ayşe| 46| ilkokul| hanife\r\n",
      "ali | 50 | lise | zübeyde\r\n",
      "nisa| 24| önlisans | ayşe\r\n",
      "elif| 27| önlisans | ayşe\r\n"
     ]
    }
   ],
   "source": [
    "#bundan önceki değerleri ayırmak için virgül kullandık istersek bunu farklı bi sembolle yapabiliriz.\n",
    "import sys\n",
    "\n",
    "df.to_csv(sys.stdout,sep =\"|\")"
   ]
  },
  {
   "cell_type": "code",
   "execution_count": null,
   "id": "f867264e",
   "metadata": {},
   "outputs": [],
   "source": []
  }
 ],
 "metadata": {
  "kernelspec": {
   "display_name": "Python 3 (ipykernel)",
   "language": "python",
   "name": "python3"
  },
  "language_info": {
   "codemirror_mode": {
    "name": "ipython",
    "version": 3
   },
   "file_extension": ".py",
   "mimetype": "text/x-python",
   "name": "python",
   "nbconvert_exporter": "python",
   "pygments_lexer": "ipython3",
   "version": "3.11.5"
  }
 },
 "nbformat": 4,
 "nbformat_minor": 5
}
