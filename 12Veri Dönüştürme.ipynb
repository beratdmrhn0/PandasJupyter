{
 "cells": [
  {
   "cell_type": "code",
   "execution_count": 1,
   "id": "a368e3a9",
   "metadata": {},
   "outputs": [],
   "source": [
    "#Bu kodda özetle şunları öğrencez;\n",
    "#Aralıklara bölme\n",
    "#Aykırı değerleri bulma ve filtreleme\n",
    "#Satırlardan rastgele örneklem alma\n",
    "#Dummy değişkenine dönüştürme."
   ]
  },
  {
   "cell_type": "code",
   "execution_count": 2,
   "id": "1b7d696f",
   "metadata": {},
   "outputs": [],
   "source": [
    "import pandas as pd"
   ]
  },
  {
   "cell_type": "code",
   "execution_count": 3,
   "id": "793dcca0",
   "metadata": {},
   "outputs": [],
   "source": [
    "#VERİYİ GRUPLARA AYIRMA\n",
    "#veriyi belli aralıklarda gruplara ayırmak için cut methodu kullanılır."
   ]
  },
  {
   "cell_type": "code",
   "execution_count": 4,
   "id": "52eca48f",
   "metadata": {},
   "outputs": [],
   "source": [
    "nt = [30,80,40,90,60,45,95,75,55,100,65,85]"
   ]
  },
  {
   "cell_type": "code",
   "execution_count": 5,
   "id": "bcb2b594",
   "metadata": {},
   "outputs": [],
   "source": [
    "aralik = [20,40,60,80,100]"
   ]
  },
  {
   "cell_type": "code",
   "execution_count": 7,
   "id": "f3349e79",
   "metadata": {},
   "outputs": [
    {
     "data": {
      "text/plain": [
       "[(20, 40], (60, 80], (20, 40], (80, 100], (40, 60], ..., (60, 80], (40, 60], (80, 100], (60, 80], (80, 100]]\n",
       "Length: 12\n",
       "Categories (4, interval[int64, right]): [(20, 40] < (40, 60] < (60, 80] < (80, 100]]"
      ]
     },
     "execution_count": 7,
     "metadata": {},
     "output_type": "execute_result"
    }
   ],
   "source": [
    "puan = pd.cut(nt,aralik)\n",
    "puan"
   ]
  },
  {
   "cell_type": "code",
   "execution_count": 9,
   "id": "16637f29",
   "metadata": {},
   "outputs": [
    {
     "data": {
      "text/plain": [
       "array([0, 2, 0, 3, 1, 1, 3, 2, 1, 3, 2, 3], dtype=int8)"
      ]
     },
     "execution_count": 9,
     "metadata": {},
     "output_type": "execute_result"
    }
   ],
   "source": [
    "puan.codes #örneğin 30 değeri 0. index değerinin arasında, 80 değeri 2. indexin arasında gibi"
   ]
  },
  {
   "cell_type": "code",
   "execution_count": 10,
   "id": "e23e42eb",
   "metadata": {},
   "outputs": [
    {
     "data": {
      "text/plain": [
       "IntervalIndex([(20, 40], (40, 60], (60, 80], (80, 100]], dtype='interval[int64, right]')"
      ]
     },
     "execution_count": 10,
     "metadata": {},
     "output_type": "execute_result"
    }
   ],
   "source": [
    "puan.categories # kategorilere ayırdı."
   ]
  },
  {
   "cell_type": "code",
   "execution_count": 12,
   "id": "d5d3a4b4",
   "metadata": {},
   "outputs": [
    {
     "data": {
      "text/plain": [
       "(80, 100]    4\n",
       "(40, 60]     3\n",
       "(60, 80]     3\n",
       "(20, 40]     2\n",
       "Name: count, dtype: int64"
      ]
     },
     "execution_count": 12,
     "metadata": {},
     "output_type": "execute_result"
    }
   ],
   "source": [
    "pd.value_counts(puan) #kategorilerin sıklıklarını bulmak için yaptık."
   ]
  },
  {
   "cell_type": "code",
   "execution_count": 14,
   "id": "20a7c359",
   "metadata": {},
   "outputs": [
    {
     "data": {
      "text/plain": [
       "[[20, 40), [80, 100), [40, 60), [80, 100), [60, 80), ..., [60.0, 80.0), [40.0, 60.0), NaN, [60.0, 80.0), [80.0, 100.0)]\n",
       "Length: 12\n",
       "Categories (4, interval[int64, left]): [[20, 40) < [40, 60) < [60, 80) < [80, 100)]"
      ]
     },
     "execution_count": 14,
     "metadata": {},
     "output_type": "execute_result"
    }
   ],
   "source": [
    "#aralıklar normal parantezle başlayıp köşeli parantezle bitiyo\n",
    "puan = pd.cut(nt,aralik,right = False) #Böyle yaparak bunu halledebiliriz.\n",
    "puan "
   ]
  },
  {
   "cell_type": "code",
   "execution_count": 15,
   "id": "3aaf123c",
   "metadata": {},
   "outputs": [
    {
     "data": {
      "text/plain": [
       "['dusuk', 'yuksek', 'dusuk', 'tavan', 'orta', ..., 'yuksek', 'orta', 'tavan', 'yuksek', 'tavan']\n",
       "Length: 12\n",
       "Categories (4, object): ['dusuk' < 'orta' < 'yuksek' < 'tavan']"
      ]
     },
     "execution_count": 15,
     "metadata": {},
     "output_type": "execute_result"
    }
   ],
   "source": [
    "isim = [\"dusuk\",\"orta\",\"yuksek\",\"tavan\"] #Aralıklara isim verdi.\n",
    "pd.cut(nt,aralik,labels = isim)"
   ]
  },
  {
   "cell_type": "code",
   "execution_count": 16,
   "id": "f4c9803d",
   "metadata": {},
   "outputs": [
    {
     "data": {
      "text/plain": [
       "[(29.93, 37.0], (79.0, 86.0], (37.0, 44.0], (86.0, 93.0], (58.0, 65.0], ..., (72.0, 79.0], (51.0, 58.0], (93.0, 100.0], (58.0, 65.0], (79.0, 86.0]]\n",
       "Length: 12\n",
       "Categories (10, interval[float64, right]): [(29.93, 37.0] < (37.0, 44.0] < (44.0, 51.0] < (51.0, 58.0] ... (72.0, 79.0] < (79.0, 86.0] < (86.0, 93.0] < (93.0, 100.0]]"
      ]
     },
     "execution_count": 16,
     "metadata": {},
     "output_type": "execute_result"
    }
   ],
   "source": [
    "pd.cut(nt,10) #nt değeri için 10 aralık belirlenmiş oldu."
   ]
  },
  {
   "cell_type": "code",
   "execution_count": 20,
   "id": "4e569de4",
   "metadata": {},
   "outputs": [
    {
     "data": {
      "text/plain": [
       "array([0.53809267, 0.75509996, 0.36062102, 0.49292442, 0.78425677,\n",
       "       0.16669629, 0.45780909, 0.09240712, 0.77175326, 0.21271448,\n",
       "       0.24190011, 0.60674547, 0.51653719, 0.65554745, 0.25220055,\n",
       "       0.30679737, 0.61675327, 0.3719215 , 0.79233693, 0.93103486,\n",
       "       0.07532059, 0.09692106, 0.95607086, 0.66972797, 0.13072142,\n",
       "       0.73754364, 0.10094351, 0.95901155, 0.64835671, 0.66545962,\n",
       "       0.44358741, 0.27738355, 0.18987842, 0.75083077, 0.99229592,\n",
       "       0.1416714 , 0.14326645, 0.70028556, 0.75417981, 0.79411831,\n",
       "       0.48179735, 0.89728026, 0.41067669, 0.38029888, 0.69987181,\n",
       "       0.60895273, 0.70373133, 0.65268044, 0.06456806, 0.58149183,\n",
       "       0.57525327, 0.13512209, 0.25992197, 0.23881709, 0.78640728,\n",
       "       0.05298471, 0.28721719, 0.89203043, 0.88277365, 0.6026527 ,\n",
       "       0.28775265, 0.60027277, 0.9947875 , 0.56093456, 0.80530756,\n",
       "       0.17176644, 0.90038592, 0.77953483, 0.21338246, 0.03456016,\n",
       "       0.99475346, 0.07721877, 0.23593265, 0.38170907, 0.06578267,\n",
       "       0.03581742, 0.68232976, 0.84837177, 0.27155587, 0.4505835 ,\n",
       "       0.34712616, 0.41448444, 0.46130013, 0.62134754, 0.74952005,\n",
       "       0.13112952, 0.14520359, 0.00948478, 0.8020047 , 0.44355198,\n",
       "       0.67637745, 0.88691252, 0.02402287, 0.7883699 , 0.78131057,\n",
       "       0.30612944, 0.1836021 , 0.33406161, 0.13879675, 0.0176691 ])"
      ]
     },
     "execution_count": 20,
     "metadata": {},
     "output_type": "execute_result"
    }
   ],
   "source": [
    "import numpy as np\n",
    "\n",
    "veri=np.random.rand(100)\n",
    "veri"
   ]
  },
  {
   "cell_type": "code",
   "execution_count": 22,
   "id": "0cb57f94",
   "metadata": {},
   "outputs": [
    {
     "data": {
      "text/plain": [
       "[(0.472, 0.75], (0.75, 0.995], (0.213, 0.472], (0.472, 0.75], (0.75, 0.995], ..., (0.213, 0.472], (0.008480000000000001, 0.213], (0.213, 0.472], (0.008480000000000001, 0.213], (0.008480000000000001, 0.213]]\n",
       "Length: 100\n",
       "Categories (4, interval[float64, right]): [(0.008480000000000001, 0.213] < (0.213, 0.472] < (0.472, 0.75] < (0.75, 0.995]]"
      ]
     },
     "execution_count": 22,
     "metadata": {},
     "output_type": "execute_result"
    }
   ],
   "source": [
    "x = pd.qcut(veri,4) #herbir değerin çeyrek aralığı ekrana gelir.\n",
    "x"
   ]
  },
  {
   "cell_type": "code",
   "execution_count": 23,
   "id": "f6ae6e7b",
   "metadata": {},
   "outputs": [
    {
     "data": {
      "text/plain": [
       "(0.008480000000000001, 0.213]    25\n",
       "(0.213, 0.472]                   25\n",
       "(0.472, 0.75]                    25\n",
       "(0.75, 0.995]                    25\n",
       "Name: count, dtype: int64"
      ]
     },
     "execution_count": 23,
     "metadata": {},
     "output_type": "execute_result"
    }
   ],
   "source": [
    "#Herbir çeyrek aralığa kaç değer düştüğüne bakalım\n",
    "pd.value_counts(x) "
   ]
  },
  {
   "cell_type": "code",
   "execution_count": 24,
   "id": "acf9b69f",
   "metadata": {},
   "outputs": [],
   "source": [
    "#AYKIRI DEĞERLERİ FİLTRELEME"
   ]
  },
  {
   "cell_type": "code",
   "execution_count": 39,
   "id": "2d63aa12",
   "metadata": {},
   "outputs": [],
   "source": [
    "veri = pd.DataFrame(np.random.rand(1000,4))"
   ]
  },
  {
   "cell_type": "code",
   "execution_count": 40,
   "id": "ae5beb0d",
   "metadata": {},
   "outputs": [
    {
     "data": {
      "text/html": [
       "<div>\n",
       "<style scoped>\n",
       "    .dataframe tbody tr th:only-of-type {\n",
       "        vertical-align: middle;\n",
       "    }\n",
       "\n",
       "    .dataframe tbody tr th {\n",
       "        vertical-align: top;\n",
       "    }\n",
       "\n",
       "    .dataframe thead th {\n",
       "        text-align: right;\n",
       "    }\n",
       "</style>\n",
       "<table border=\"1\" class=\"dataframe\">\n",
       "  <thead>\n",
       "    <tr style=\"text-align: right;\">\n",
       "      <th></th>\n",
       "      <th>0</th>\n",
       "      <th>1</th>\n",
       "      <th>2</th>\n",
       "      <th>3</th>\n",
       "    </tr>\n",
       "  </thead>\n",
       "  <tbody>\n",
       "    <tr>\n",
       "      <th>0</th>\n",
       "      <td>0.247036</td>\n",
       "      <td>0.569879</td>\n",
       "      <td>0.070326</td>\n",
       "      <td>0.385715</td>\n",
       "    </tr>\n",
       "    <tr>\n",
       "      <th>1</th>\n",
       "      <td>0.995401</td>\n",
       "      <td>0.803184</td>\n",
       "      <td>0.212181</td>\n",
       "      <td>0.920557</td>\n",
       "    </tr>\n",
       "    <tr>\n",
       "      <th>2</th>\n",
       "      <td>0.511524</td>\n",
       "      <td>0.704617</td>\n",
       "      <td>0.460536</td>\n",
       "      <td>0.398651</td>\n",
       "    </tr>\n",
       "    <tr>\n",
       "      <th>3</th>\n",
       "      <td>0.189339</td>\n",
       "      <td>0.825520</td>\n",
       "      <td>0.937546</td>\n",
       "      <td>0.133673</td>\n",
       "    </tr>\n",
       "    <tr>\n",
       "      <th>4</th>\n",
       "      <td>0.555208</td>\n",
       "      <td>0.413450</td>\n",
       "      <td>0.298371</td>\n",
       "      <td>0.080614</td>\n",
       "    </tr>\n",
       "  </tbody>\n",
       "</table>\n",
       "</div>"
      ],
      "text/plain": [
       "          0         1         2         3\n",
       "0  0.247036  0.569879  0.070326  0.385715\n",
       "1  0.995401  0.803184  0.212181  0.920557\n",
       "2  0.511524  0.704617  0.460536  0.398651\n",
       "3  0.189339  0.825520  0.937546  0.133673\n",
       "4  0.555208  0.413450  0.298371  0.080614"
      ]
     },
     "execution_count": 40,
     "metadata": {},
     "output_type": "execute_result"
    }
   ],
   "source": [
    "veri.head() # ilk 5 satır "
   ]
  },
  {
   "cell_type": "code",
   "execution_count": 41,
   "id": "314cd346",
   "metadata": {},
   "outputs": [
    {
     "data": {
      "text/html": [
       "<div>\n",
       "<style scoped>\n",
       "    .dataframe tbody tr th:only-of-type {\n",
       "        vertical-align: middle;\n",
       "    }\n",
       "\n",
       "    .dataframe tbody tr th {\n",
       "        vertical-align: top;\n",
       "    }\n",
       "\n",
       "    .dataframe thead th {\n",
       "        text-align: right;\n",
       "    }\n",
       "</style>\n",
       "<table border=\"1\" class=\"dataframe\">\n",
       "  <thead>\n",
       "    <tr style=\"text-align: right;\">\n",
       "      <th></th>\n",
       "      <th>0</th>\n",
       "      <th>1</th>\n",
       "      <th>2</th>\n",
       "      <th>3</th>\n",
       "    </tr>\n",
       "  </thead>\n",
       "  <tbody>\n",
       "    <tr>\n",
       "      <th>count</th>\n",
       "      <td>1000.000000</td>\n",
       "      <td>1000.000000</td>\n",
       "      <td>1000.000000</td>\n",
       "      <td>1000.000000</td>\n",
       "    </tr>\n",
       "    <tr>\n",
       "      <th>mean</th>\n",
       "      <td>0.515553</td>\n",
       "      <td>0.504564</td>\n",
       "      <td>0.488058</td>\n",
       "      <td>0.510681</td>\n",
       "    </tr>\n",
       "    <tr>\n",
       "      <th>std</th>\n",
       "      <td>0.292682</td>\n",
       "      <td>0.290084</td>\n",
       "      <td>0.287241</td>\n",
       "      <td>0.285305</td>\n",
       "    </tr>\n",
       "    <tr>\n",
       "      <th>min</th>\n",
       "      <td>0.001816</td>\n",
       "      <td>0.000434</td>\n",
       "      <td>0.001007</td>\n",
       "      <td>0.004233</td>\n",
       "    </tr>\n",
       "    <tr>\n",
       "      <th>25%</th>\n",
       "      <td>0.254813</td>\n",
       "      <td>0.254359</td>\n",
       "      <td>0.244583</td>\n",
       "      <td>0.260492</td>\n",
       "    </tr>\n",
       "    <tr>\n",
       "      <th>50%</th>\n",
       "      <td>0.523759</td>\n",
       "      <td>0.496174</td>\n",
       "      <td>0.480354</td>\n",
       "      <td>0.514258</td>\n",
       "    </tr>\n",
       "    <tr>\n",
       "      <th>75%</th>\n",
       "      <td>0.765770</td>\n",
       "      <td>0.753246</td>\n",
       "      <td>0.740328</td>\n",
       "      <td>0.742807</td>\n",
       "    </tr>\n",
       "    <tr>\n",
       "      <th>max</th>\n",
       "      <td>0.998117</td>\n",
       "      <td>0.998680</td>\n",
       "      <td>0.998779</td>\n",
       "      <td>0.999888</td>\n",
       "    </tr>\n",
       "  </tbody>\n",
       "</table>\n",
       "</div>"
      ],
      "text/plain": [
       "                 0            1            2            3\n",
       "count  1000.000000  1000.000000  1000.000000  1000.000000\n",
       "mean      0.515553     0.504564     0.488058     0.510681\n",
       "std       0.292682     0.290084     0.287241     0.285305\n",
       "min       0.001816     0.000434     0.001007     0.004233\n",
       "25%       0.254813     0.254359     0.244583     0.260492\n",
       "50%       0.523759     0.496174     0.480354     0.514258\n",
       "75%       0.765770     0.753246     0.740328     0.742807\n",
       "max       0.998117     0.998680     0.998779     0.999888"
      ]
     },
     "execution_count": 41,
     "metadata": {},
     "output_type": "execute_result"
    }
   ],
   "source": [
    "veri.describe() #Özet istatistikler karşımıza gelir."
   ]
  },
  {
   "cell_type": "code",
   "execution_count": 30,
   "id": "3aca33fb",
   "metadata": {},
   "outputs": [],
   "source": [
    "sutun = veri[1]"
   ]
  },
  {
   "cell_type": "code",
   "execution_count": 52,
   "id": "b76a4bd7",
   "metadata": {},
   "outputs": [
    {
     "data": {
      "text/plain": [
       "12     0.998565\n",
       "20     0.880595\n",
       "23     0.955510\n",
       "25     0.911843\n",
       "28     0.901983\n",
       "         ...   \n",
       "942    0.949296\n",
       "951    0.845586\n",
       "952    0.824477\n",
       "958    0.813255\n",
       "967    0.909562\n",
       "Name: 1, Length: 180, dtype: float64"
      ]
     },
     "execution_count": 52,
     "metadata": {},
     "output_type": "execute_result"
    }
   ],
   "source": [
    "sutun[np.abs(sutun)>0.8] #mutlak değer 0.8 den buyuk değerleri yazar"
   ]
  },
  {
   "cell_type": "code",
   "execution_count": 53,
   "id": "f197f000",
   "metadata": {},
   "outputs": [
    {
     "data": {
      "text/html": [
       "<div>\n",
       "<style scoped>\n",
       "    .dataframe tbody tr th:only-of-type {\n",
       "        vertical-align: middle;\n",
       "    }\n",
       "\n",
       "    .dataframe tbody tr th {\n",
       "        vertical-align: top;\n",
       "    }\n",
       "\n",
       "    .dataframe thead th {\n",
       "        text-align: right;\n",
       "    }\n",
       "</style>\n",
       "<table border=\"1\" class=\"dataframe\">\n",
       "  <thead>\n",
       "    <tr style=\"text-align: right;\">\n",
       "      <th></th>\n",
       "      <th>0</th>\n",
       "      <th>1</th>\n",
       "      <th>2</th>\n",
       "      <th>3</th>\n",
       "    </tr>\n",
       "  </thead>\n",
       "  <tbody>\n",
       "    <tr>\n",
       "      <th>0</th>\n",
       "      <td>1.0</td>\n",
       "      <td>1.0</td>\n",
       "      <td>1.0</td>\n",
       "      <td>1.0</td>\n",
       "    </tr>\n",
       "    <tr>\n",
       "      <th>1</th>\n",
       "      <td>1.0</td>\n",
       "      <td>1.0</td>\n",
       "      <td>1.0</td>\n",
       "      <td>1.0</td>\n",
       "    </tr>\n",
       "    <tr>\n",
       "      <th>2</th>\n",
       "      <td>1.0</td>\n",
       "      <td>1.0</td>\n",
       "      <td>1.0</td>\n",
       "      <td>1.0</td>\n",
       "    </tr>\n",
       "    <tr>\n",
       "      <th>3</th>\n",
       "      <td>1.0</td>\n",
       "      <td>1.0</td>\n",
       "      <td>1.0</td>\n",
       "      <td>1.0</td>\n",
       "    </tr>\n",
       "    <tr>\n",
       "      <th>4</th>\n",
       "      <td>1.0</td>\n",
       "      <td>1.0</td>\n",
       "      <td>1.0</td>\n",
       "      <td>1.0</td>\n",
       "    </tr>\n",
       "  </tbody>\n",
       "</table>\n",
       "</div>"
      ],
      "text/plain": [
       "     0    1    2    3\n",
       "0  1.0  1.0  1.0  1.0\n",
       "1  1.0  1.0  1.0  1.0\n",
       "2  1.0  1.0  1.0  1.0\n",
       "3  1.0  1.0  1.0  1.0\n",
       "4  1.0  1.0  1.0  1.0"
      ]
     },
     "execution_count": 53,
     "metadata": {},
     "output_type": "execute_result"
    }
   ],
   "source": [
    "np.sign(veri.head()) #Negatif olup olmadığını görmek istersek"
   ]
  },
  {
   "cell_type": "code",
   "execution_count": 54,
   "id": "c50c0e3b",
   "metadata": {},
   "outputs": [],
   "source": [
    "#RASTGELE SATIR SEÇME"
   ]
  },
  {
   "cell_type": "code",
   "execution_count": 55,
   "id": "b756fe79",
   "metadata": {},
   "outputs": [
    {
     "data": {
      "text/html": [
       "<div>\n",
       "<style scoped>\n",
       "    .dataframe tbody tr th:only-of-type {\n",
       "        vertical-align: middle;\n",
       "    }\n",
       "\n",
       "    .dataframe tbody tr th {\n",
       "        vertical-align: top;\n",
       "    }\n",
       "\n",
       "    .dataframe thead th {\n",
       "        text-align: right;\n",
       "    }\n",
       "</style>\n",
       "<table border=\"1\" class=\"dataframe\">\n",
       "  <thead>\n",
       "    <tr style=\"text-align: right;\">\n",
       "      <th></th>\n",
       "      <th>0</th>\n",
       "      <th>1</th>\n",
       "      <th>2</th>\n",
       "    </tr>\n",
       "  </thead>\n",
       "  <tbody>\n",
       "    <tr>\n",
       "      <th>0</th>\n",
       "      <td>0</td>\n",
       "      <td>1</td>\n",
       "      <td>2</td>\n",
       "    </tr>\n",
       "    <tr>\n",
       "      <th>1</th>\n",
       "      <td>3</td>\n",
       "      <td>4</td>\n",
       "      <td>5</td>\n",
       "    </tr>\n",
       "    <tr>\n",
       "      <th>2</th>\n",
       "      <td>6</td>\n",
       "      <td>7</td>\n",
       "      <td>8</td>\n",
       "    </tr>\n",
       "    <tr>\n",
       "      <th>3</th>\n",
       "      <td>9</td>\n",
       "      <td>10</td>\n",
       "      <td>11</td>\n",
       "    </tr>\n",
       "  </tbody>\n",
       "</table>\n",
       "</div>"
      ],
      "text/plain": [
       "   0   1   2\n",
       "0  0   1   2\n",
       "1  3   4   5\n",
       "2  6   7   8\n",
       "3  9  10  11"
      ]
     },
     "execution_count": 55,
     "metadata": {},
     "output_type": "execute_result"
    }
   ],
   "source": [
    "veri = pd.DataFrame(np.arange(12).reshape(4,3))\n",
    "veri"
   ]
  },
  {
   "cell_type": "code",
   "execution_count": 56,
   "id": "abd7505e",
   "metadata": {},
   "outputs": [
    {
     "data": {
      "text/plain": [
       "array([1, 2, 3, 0])"
      ]
     },
     "execution_count": 56,
     "metadata": {},
     "output_type": "execute_result"
    }
   ],
   "source": [
    "sira = np.random.permutation(4) #4 e kadar rastgele bir değer alınmış oldu.\n",
    "sira "
   ]
  },
  {
   "cell_type": "code",
   "execution_count": 57,
   "id": "b84e9596",
   "metadata": {},
   "outputs": [
    {
     "data": {
      "text/html": [
       "<div>\n",
       "<style scoped>\n",
       "    .dataframe tbody tr th:only-of-type {\n",
       "        vertical-align: middle;\n",
       "    }\n",
       "\n",
       "    .dataframe tbody tr th {\n",
       "        vertical-align: top;\n",
       "    }\n",
       "\n",
       "    .dataframe thead th {\n",
       "        text-align: right;\n",
       "    }\n",
       "</style>\n",
       "<table border=\"1\" class=\"dataframe\">\n",
       "  <thead>\n",
       "    <tr style=\"text-align: right;\">\n",
       "      <th></th>\n",
       "      <th>0</th>\n",
       "      <th>1</th>\n",
       "      <th>2</th>\n",
       "    </tr>\n",
       "  </thead>\n",
       "  <tbody>\n",
       "    <tr>\n",
       "      <th>1</th>\n",
       "      <td>3</td>\n",
       "      <td>4</td>\n",
       "      <td>5</td>\n",
       "    </tr>\n",
       "    <tr>\n",
       "      <th>2</th>\n",
       "      <td>6</td>\n",
       "      <td>7</td>\n",
       "      <td>8</td>\n",
       "    </tr>\n",
       "    <tr>\n",
       "      <th>3</th>\n",
       "      <td>9</td>\n",
       "      <td>10</td>\n",
       "      <td>11</td>\n",
       "    </tr>\n",
       "    <tr>\n",
       "      <th>0</th>\n",
       "      <td>0</td>\n",
       "      <td>1</td>\n",
       "      <td>2</td>\n",
       "    </tr>\n",
       "  </tbody>\n",
       "</table>\n",
       "</div>"
      ],
      "text/plain": [
       "   0   1   2\n",
       "1  3   4   5\n",
       "2  6   7   8\n",
       "3  9  10  11\n",
       "0  0   1   2"
      ]
     },
     "execution_count": 57,
     "metadata": {},
     "output_type": "execute_result"
    }
   ],
   "source": [
    "veri.take(sira) #verideki değerlerin sıralamasını değiştirelim"
   ]
  },
  {
   "cell_type": "code",
   "execution_count": 62,
   "id": "1d740bdb",
   "metadata": {},
   "outputs": [
    {
     "data": {
      "text/html": [
       "<div>\n",
       "<style scoped>\n",
       "    .dataframe tbody tr th:only-of-type {\n",
       "        vertical-align: middle;\n",
       "    }\n",
       "\n",
       "    .dataframe tbody tr th {\n",
       "        vertical-align: top;\n",
       "    }\n",
       "\n",
       "    .dataframe thead th {\n",
       "        text-align: right;\n",
       "    }\n",
       "</style>\n",
       "<table border=\"1\" class=\"dataframe\">\n",
       "  <thead>\n",
       "    <tr style=\"text-align: right;\">\n",
       "      <th></th>\n",
       "      <th>0</th>\n",
       "      <th>1</th>\n",
       "      <th>2</th>\n",
       "    </tr>\n",
       "  </thead>\n",
       "  <tbody>\n",
       "    <tr>\n",
       "      <th>0</th>\n",
       "      <td>0</td>\n",
       "      <td>1</td>\n",
       "      <td>2</td>\n",
       "    </tr>\n",
       "    <tr>\n",
       "      <th>3</th>\n",
       "      <td>9</td>\n",
       "      <td>10</td>\n",
       "      <td>11</td>\n",
       "    </tr>\n",
       "  </tbody>\n",
       "</table>\n",
       "</div>"
      ],
      "text/plain": [
       "   0   1   2\n",
       "0  0   1   2\n",
       "3  9  10  11"
      ]
     },
     "execution_count": 62,
     "metadata": {},
     "output_type": "execute_result"
    }
   ],
   "source": [
    "#Rastgele satır seçmek için sample methodu kullanılır.\n",
    "veri.sample( n = 2)"
   ]
  },
  {
   "cell_type": "code",
   "execution_count": null,
   "id": "bf39442e",
   "metadata": {},
   "outputs": [],
   "source": [
    "#DUMMY DÖNÜŞÜMÜ"
   ]
  },
  {
   "cell_type": "code",
   "execution_count": 64,
   "id": "51c8429f",
   "metadata": {},
   "outputs": [
    {
     "data": {
      "text/html": [
       "<div>\n",
       "<style scoped>\n",
       "    .dataframe tbody tr th:only-of-type {\n",
       "        vertical-align: middle;\n",
       "    }\n",
       "\n",
       "    .dataframe tbody tr th {\n",
       "        vertical-align: top;\n",
       "    }\n",
       "\n",
       "    .dataframe thead th {\n",
       "        text-align: right;\n",
       "    }\n",
       "</style>\n",
       "<table border=\"1\" class=\"dataframe\">\n",
       "  <thead>\n",
       "    <tr style=\"text-align: right;\">\n",
       "      <th></th>\n",
       "      <th>harf</th>\n",
       "      <th>sayi</th>\n",
       "    </tr>\n",
       "  </thead>\n",
       "  <tbody>\n",
       "    <tr>\n",
       "      <th>0</th>\n",
       "      <td>c</td>\n",
       "      <td>0</td>\n",
       "    </tr>\n",
       "    <tr>\n",
       "      <th>1</th>\n",
       "      <td>b</td>\n",
       "      <td>1</td>\n",
       "    </tr>\n",
       "    <tr>\n",
       "      <th>2</th>\n",
       "      <td>a</td>\n",
       "      <td>2</td>\n",
       "    </tr>\n",
       "    <tr>\n",
       "      <th>3</th>\n",
       "      <td>b</td>\n",
       "      <td>3</td>\n",
       "    </tr>\n",
       "    <tr>\n",
       "      <th>4</th>\n",
       "      <td>b</td>\n",
       "      <td>4</td>\n",
       "    </tr>\n",
       "    <tr>\n",
       "      <th>5</th>\n",
       "      <td>a</td>\n",
       "      <td>5</td>\n",
       "    </tr>\n",
       "  </tbody>\n",
       "</table>\n",
       "</div>"
      ],
      "text/plain": [
       "  harf  sayi\n",
       "0    c     0\n",
       "1    b     1\n",
       "2    a     2\n",
       "3    b     3\n",
       "4    b     4\n",
       "5    a     5"
      ]
     },
     "execution_count": 64,
     "metadata": {},
     "output_type": "execute_result"
    }
   ],
   "source": [
    "veri = pd.DataFrame({\"harf\":[\"c\",\"b\",\"a\",\"b\",\"b\",\"a\"],\"sayi\":range(6)})\n",
    "veri"
   ]
  },
  {
   "cell_type": "code",
   "execution_count": 65,
   "id": "f510cc64",
   "metadata": {},
   "outputs": [
    {
     "data": {
      "text/html": [
       "<div>\n",
       "<style scoped>\n",
       "    .dataframe tbody tr th:only-of-type {\n",
       "        vertical-align: middle;\n",
       "    }\n",
       "\n",
       "    .dataframe tbody tr th {\n",
       "        vertical-align: top;\n",
       "    }\n",
       "\n",
       "    .dataframe thead th {\n",
       "        text-align: right;\n",
       "    }\n",
       "</style>\n",
       "<table border=\"1\" class=\"dataframe\">\n",
       "  <thead>\n",
       "    <tr style=\"text-align: right;\">\n",
       "      <th></th>\n",
       "      <th>a</th>\n",
       "      <th>b</th>\n",
       "      <th>c</th>\n",
       "    </tr>\n",
       "  </thead>\n",
       "  <tbody>\n",
       "    <tr>\n",
       "      <th>0</th>\n",
       "      <td>False</td>\n",
       "      <td>False</td>\n",
       "      <td>True</td>\n",
       "    </tr>\n",
       "    <tr>\n",
       "      <th>1</th>\n",
       "      <td>False</td>\n",
       "      <td>True</td>\n",
       "      <td>False</td>\n",
       "    </tr>\n",
       "    <tr>\n",
       "      <th>2</th>\n",
       "      <td>True</td>\n",
       "      <td>False</td>\n",
       "      <td>False</td>\n",
       "    </tr>\n",
       "    <tr>\n",
       "      <th>3</th>\n",
       "      <td>False</td>\n",
       "      <td>True</td>\n",
       "      <td>False</td>\n",
       "    </tr>\n",
       "    <tr>\n",
       "      <th>4</th>\n",
       "      <td>False</td>\n",
       "      <td>True</td>\n",
       "      <td>False</td>\n",
       "    </tr>\n",
       "    <tr>\n",
       "      <th>5</th>\n",
       "      <td>True</td>\n",
       "      <td>False</td>\n",
       "      <td>False</td>\n",
       "    </tr>\n",
       "  </tbody>\n",
       "</table>\n",
       "</div>"
      ],
      "text/plain": [
       "       a      b      c\n",
       "0  False  False   True\n",
       "1  False   True  False\n",
       "2   True  False  False\n",
       "3  False   True  False\n",
       "4  False   True  False\n",
       "5   True  False  False"
      ]
     },
     "execution_count": 65,
     "metadata": {},
     "output_type": "execute_result"
    }
   ],
   "source": [
    "pd.get_dummies(veri[\"harf\"])\n"
   ]
  },
  {
   "cell_type": "code",
   "execution_count": 66,
   "id": "95140031",
   "metadata": {},
   "outputs": [
    {
     "data": {
      "text/plain": [
       "array([ 0.13752075, -0.97197043, -0.05483336, -2.53901433, -1.10009112,\n",
       "       -2.21946692,  0.61182074, -0.41805763, -0.89216289,  1.13102412])"
      ]
     },
     "execution_count": 66,
     "metadata": {},
     "output_type": "execute_result"
    }
   ],
   "source": [
    "veri = np.random.randn(10)\n",
    "veri"
   ]
  },
  {
   "cell_type": "code",
   "execution_count": 67,
   "id": "b014d78c",
   "metadata": {},
   "outputs": [
    {
     "data": {
      "text/html": [
       "<div>\n",
       "<style scoped>\n",
       "    .dataframe tbody tr th:only-of-type {\n",
       "        vertical-align: middle;\n",
       "    }\n",
       "\n",
       "    .dataframe tbody tr th {\n",
       "        vertical-align: top;\n",
       "    }\n",
       "\n",
       "    .dataframe thead th {\n",
       "        text-align: right;\n",
       "    }\n",
       "</style>\n",
       "<table border=\"1\" class=\"dataframe\">\n",
       "  <thead>\n",
       "    <tr style=\"text-align: right;\">\n",
       "      <th></th>\n",
       "      <th>(-2.543, -1.622]</th>\n",
       "      <th>(-1.622, -0.704]</th>\n",
       "      <th>(-0.704, 0.214]</th>\n",
       "      <th>(0.214, 1.131]</th>\n",
       "    </tr>\n",
       "  </thead>\n",
       "  <tbody>\n",
       "    <tr>\n",
       "      <th>0</th>\n",
       "      <td>False</td>\n",
       "      <td>False</td>\n",
       "      <td>True</td>\n",
       "      <td>False</td>\n",
       "    </tr>\n",
       "    <tr>\n",
       "      <th>1</th>\n",
       "      <td>False</td>\n",
       "      <td>True</td>\n",
       "      <td>False</td>\n",
       "      <td>False</td>\n",
       "    </tr>\n",
       "    <tr>\n",
       "      <th>2</th>\n",
       "      <td>False</td>\n",
       "      <td>False</td>\n",
       "      <td>True</td>\n",
       "      <td>False</td>\n",
       "    </tr>\n",
       "    <tr>\n",
       "      <th>3</th>\n",
       "      <td>True</td>\n",
       "      <td>False</td>\n",
       "      <td>False</td>\n",
       "      <td>False</td>\n",
       "    </tr>\n",
       "    <tr>\n",
       "      <th>4</th>\n",
       "      <td>False</td>\n",
       "      <td>True</td>\n",
       "      <td>False</td>\n",
       "      <td>False</td>\n",
       "    </tr>\n",
       "    <tr>\n",
       "      <th>5</th>\n",
       "      <td>True</td>\n",
       "      <td>False</td>\n",
       "      <td>False</td>\n",
       "      <td>False</td>\n",
       "    </tr>\n",
       "    <tr>\n",
       "      <th>6</th>\n",
       "      <td>False</td>\n",
       "      <td>False</td>\n",
       "      <td>False</td>\n",
       "      <td>True</td>\n",
       "    </tr>\n",
       "    <tr>\n",
       "      <th>7</th>\n",
       "      <td>False</td>\n",
       "      <td>False</td>\n",
       "      <td>True</td>\n",
       "      <td>False</td>\n",
       "    </tr>\n",
       "    <tr>\n",
       "      <th>8</th>\n",
       "      <td>False</td>\n",
       "      <td>True</td>\n",
       "      <td>False</td>\n",
       "      <td>False</td>\n",
       "    </tr>\n",
       "    <tr>\n",
       "      <th>9</th>\n",
       "      <td>False</td>\n",
       "      <td>False</td>\n",
       "      <td>False</td>\n",
       "      <td>True</td>\n",
       "    </tr>\n",
       "  </tbody>\n",
       "</table>\n",
       "</div>"
      ],
      "text/plain": [
       "   (-2.543, -1.622]  (-1.622, -0.704]  (-0.704, 0.214]  (0.214, 1.131]\n",
       "0             False             False             True           False\n",
       "1             False              True            False           False\n",
       "2             False             False             True           False\n",
       "3              True             False            False           False\n",
       "4             False              True            False           False\n",
       "5              True             False            False           False\n",
       "6             False             False            False            True\n",
       "7             False             False             True           False\n",
       "8             False              True            False           False\n",
       "9             False             False            False            True"
      ]
     },
     "execution_count": 67,
     "metadata": {},
     "output_type": "execute_result"
    }
   ],
   "source": [
    "pd.get_dummies(pd.cut(veri,4)) #veri seti 4 aralığa ayrıldı.\n"
   ]
  },
  {
   "cell_type": "code",
   "execution_count": null,
   "id": "69a31074",
   "metadata": {},
   "outputs": [],
   "source": []
  }
 ],
 "metadata": {
  "kernelspec": {
   "display_name": "Python 3 (ipykernel)",
   "language": "python",
   "name": "python3"
  },
  "language_info": {
   "codemirror_mode": {
    "name": "ipython",
    "version": 3
   },
   "file_extension": ".py",
   "mimetype": "text/x-python",
   "name": "python",
   "nbconvert_exporter": "python",
   "pygments_lexer": "ipython3",
   "version": "3.11.5"
  }
 },
 "nbformat": 4,
 "nbformat_minor": 5
}
